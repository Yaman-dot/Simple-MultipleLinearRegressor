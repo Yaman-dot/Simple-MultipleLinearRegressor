{
  "cells": [
    {
      "cell_type": "markdown",
      "id": "c02e7135",
      "metadata": {
        "id": "c02e7135"
      },
      "source": [
        "<br>\n",
        "\n",
        "<center><img src=\"https://www.htu.edu.jo/images/ThumbnailsCoverPhotos/HTU%20Logo-250px.png\" alt=\"HTU\"  width=\"180px\" align=\"center\">\n",
        "\n",
        "<br>\n",
        "<p>\n",
        "School of Computing and Informatics <br>\n",
        "Artificial Intelligence & Intelligent Systems<br>\n",
        "<br>\n",
        "Regression\n",
        "</p></center>\n",
        "\n",
        "### By the end of this lab, students will be able to:\n",
        "\n",
        "- Import and explore a dataset in Python.\n",
        "- Preprocess and split data for machine learning.\n",
        "- Implement a simple linear regression model using sklearn.\n",
        "- Evaluate the regression model’s performance using relevant metrics.\n",
        "- Visualize and interpret the results.\n",
        "\n",
        "---\n",
        "**Dataset Description: Boston Housing**\n",
        "\n",
        "This dataset includes various features related to housing conditions in Boston suburbs. The goal is to predict the Value of Homes based on different socio-economic and structural factors.\n",
        "\n",
        " **Features:**\n",
        "\n",
        "crime_rate:crime rate by town.\n",
        "\n",
        "land_zoned: Proportion of residential land zoned for large lots\n",
        "\n",
        "busines_in_TownS: Proportion of non-retail business acres per town.\n",
        "\n",
        "River_dummy: 1 if the tract borders the Charles River; 0 otherwise.\n",
        "\n",
        "average_number_of_rooms: Average number of rooms.\n",
        "\n",
        "AGE: Proportion of owner-occupied units built before 1940.\n",
        "\n",
        "distances_to_Boston_center: Weighted distances to five Boston employment centers.\n",
        "\n",
        "highways: Index of accessibility to radial highways.\n",
        "\n",
        "TAX: Full-value property tax rate per $10,000.\n",
        "\n",
        "Teacher_Ratio: teacher ratio by town.\n",
        "\n",
        "Black_population_index:the proportion of Black residents.\n",
        "\n",
        "Lower_Status_of_the_Population: Percentage of the population considered lower status.\n",
        "\n",
        "🎯 **Target:**\n",
        "\n",
        "Value_of_Homes: Median value of owner-occupied homes.\n",
        "\n",
        "\n",
        "---\n"
      ]
    },
    {
      "cell_type": "markdown",
      "id": "W8tzCu_CRrdg",
      "metadata": {
        "id": "W8tzCu_CRrdg"
      },
      "source": [
        "# **Answer the following questions breifley**"
      ]
    },
    {
      "cell_type": "markdown",
      "id": "VF5KFo40SMJl",
      "metadata": {
        "id": "VF5KFo40SMJl"
      },
      "source": [
        "- What is scikit-learn? And why do we use it? its a machine learning library that we use to create machine learning algorithms\n",
        "\n",
        "- What does the function “train_test_split” do? it splits the data into 2 sets, the training set where the machine learning is going to learn, and the testing set where we are going to examine its accuracy\n",
        "\n",
        "- What does the function “fit” do? it trains the model with the data\n",
        "\n",
        "- What does the function “predict” do? we can use it to predict new values not in our data.\n",
        "\n",
        "- What does the function “LinearRegression()” do? its used to initialize the model\n",
        "\n",
        "- What does “StandardScaler” do? it standarize the data"
      ]
    },
    {
      "cell_type": "markdown",
      "id": "nubNPBZ1Simc",
      "metadata": {
        "id": "nubNPBZ1Simc"
      },
      "source": []
    },
    {
      "cell_type": "markdown",
      "id": "6tZfKTj0XRjF",
      "metadata": {
        "id": "6tZfKTj0XRjF"
      },
      "source": [
        "# <h1><font color='red'> Part1: Simple Linear Regression</font></h1>\n",
        "\n",
        "---\n",
        "\n"
      ]
    },
    {
      "cell_type": "markdown",
      "id": "73e5f8ee",
      "metadata": {
        "id": "73e5f8ee"
      },
      "source": [
        "Task 1: Import Required Libraries\n",
        "\n",
        "Import the required libraries for data handling, visualization, and linear regression."
      ]
    },
    {
      "cell_type": "code",
      "execution_count": 1,
      "id": "8968a1e3",
      "metadata": {
        "id": "8968a1e3"
      },
      "outputs": [],
      "source": [
        "import pandas as pd\n",
        "import numpy as np\n",
        "import matplotlib.pyplot as plt\n",
        "import seaborn as sns\n",
        "from sklearn.model_selection import train_test_split\n",
        "from sklearn.linear_model import LinearRegression\n",
        "from sklearn.metrics import mean_squared_error, r2_score"
      ]
    },
    {
      "cell_type": "markdown",
      "id": "40c00de7",
      "metadata": {
        "id": "40c00de7"
      },
      "source": [
        "Task 2: Load and Explore the Dataset\n",
        "Load the dataset and display the first few rows to understand the structure."
      ]
    },
    {
      "cell_type": "code",
      "execution_count": 2,
      "id": "cfdf256d",
      "metadata": {
        "colab": {
          "base_uri": "https://localhost:8080/",
          "height": 206
        },
        "id": "cfdf256d",
        "outputId": "686f4cf7-e123-4a3c-e8eb-35dab1157065"
      },
      "outputs": [
        {
          "data": {
            "text/html": [
              "<div>\n",
              "<style scoped>\n",
              "    .dataframe tbody tr th:only-of-type {\n",
              "        vertical-align: middle;\n",
              "    }\n",
              "\n",
              "    .dataframe tbody tr th {\n",
              "        vertical-align: top;\n",
              "    }\n",
              "\n",
              "    .dataframe thead th {\n",
              "        text-align: right;\n",
              "    }\n",
              "</style>\n",
              "<table border=\"1\" class=\"dataframe\">\n",
              "  <thead>\n",
              "    <tr style=\"text-align: right;\">\n",
              "      <th></th>\n",
              "      <th>crime_rate</th>\n",
              "      <th>land zoned</th>\n",
              "      <th>busines_in_TownS</th>\n",
              "      <th>River_dummy</th>\n",
              "      <th>average number of rooms</th>\n",
              "      <th>AGE</th>\n",
              "      <th>distances to Boston center</th>\n",
              "      <th>highways</th>\n",
              "      <th>TAX</th>\n",
              "      <th>Teacher Ratio</th>\n",
              "      <th>Black population index</th>\n",
              "      <th>Lower Status of the Population</th>\n",
              "      <th>Value of Homes</th>\n",
              "    </tr>\n",
              "  </thead>\n",
              "  <tbody>\n",
              "    <tr>\n",
              "      <th>0</th>\n",
              "      <td>0.00632</td>\n",
              "      <td>18.0</td>\n",
              "      <td>2.31</td>\n",
              "      <td>0</td>\n",
              "      <td>6.575</td>\n",
              "      <td>65.2</td>\n",
              "      <td>4.0900</td>\n",
              "      <td>1</td>\n",
              "      <td>296</td>\n",
              "      <td>15.3</td>\n",
              "      <td>396.90</td>\n",
              "      <td>4.98</td>\n",
              "      <td>24.0</td>\n",
              "    </tr>\n",
              "    <tr>\n",
              "      <th>1</th>\n",
              "      <td>0.02731</td>\n",
              "      <td>0.0</td>\n",
              "      <td>7.07</td>\n",
              "      <td>0</td>\n",
              "      <td>6.421</td>\n",
              "      <td>78.9</td>\n",
              "      <td>4.9671</td>\n",
              "      <td>2</td>\n",
              "      <td>242</td>\n",
              "      <td>17.8</td>\n",
              "      <td>396.90</td>\n",
              "      <td>9.14</td>\n",
              "      <td>21.6</td>\n",
              "    </tr>\n",
              "    <tr>\n",
              "      <th>2</th>\n",
              "      <td>0.02729</td>\n",
              "      <td>0.0</td>\n",
              "      <td>7.07</td>\n",
              "      <td>0</td>\n",
              "      <td>7.185</td>\n",
              "      <td>61.1</td>\n",
              "      <td>4.9671</td>\n",
              "      <td>2</td>\n",
              "      <td>242</td>\n",
              "      <td>17.8</td>\n",
              "      <td>392.83</td>\n",
              "      <td>4.03</td>\n",
              "      <td>34.7</td>\n",
              "    </tr>\n",
              "    <tr>\n",
              "      <th>3</th>\n",
              "      <td>0.03237</td>\n",
              "      <td>0.0</td>\n",
              "      <td>2.18</td>\n",
              "      <td>0</td>\n",
              "      <td>6.998</td>\n",
              "      <td>45.8</td>\n",
              "      <td>6.0622</td>\n",
              "      <td>3</td>\n",
              "      <td>222</td>\n",
              "      <td>18.7</td>\n",
              "      <td>394.63</td>\n",
              "      <td>2.94</td>\n",
              "      <td>33.4</td>\n",
              "    </tr>\n",
              "    <tr>\n",
              "      <th>4</th>\n",
              "      <td>0.06905</td>\n",
              "      <td>0.0</td>\n",
              "      <td>2.18</td>\n",
              "      <td>0</td>\n",
              "      <td>7.147</td>\n",
              "      <td>54.2</td>\n",
              "      <td>6.0622</td>\n",
              "      <td>3</td>\n",
              "      <td>222</td>\n",
              "      <td>18.7</td>\n",
              "      <td>396.90</td>\n",
              "      <td>5.33</td>\n",
              "      <td>36.2</td>\n",
              "    </tr>\n",
              "    <tr>\n",
              "      <th>...</th>\n",
              "      <td>...</td>\n",
              "      <td>...</td>\n",
              "      <td>...</td>\n",
              "      <td>...</td>\n",
              "      <td>...</td>\n",
              "      <td>...</td>\n",
              "      <td>...</td>\n",
              "      <td>...</td>\n",
              "      <td>...</td>\n",
              "      <td>...</td>\n",
              "      <td>...</td>\n",
              "      <td>...</td>\n",
              "      <td>...</td>\n",
              "    </tr>\n",
              "    <tr>\n",
              "      <th>501</th>\n",
              "      <td>0.06263</td>\n",
              "      <td>0.0</td>\n",
              "      <td>11.93</td>\n",
              "      <td>0</td>\n",
              "      <td>6.593</td>\n",
              "      <td>69.1</td>\n",
              "      <td>2.4786</td>\n",
              "      <td>1</td>\n",
              "      <td>273</td>\n",
              "      <td>21.0</td>\n",
              "      <td>391.99</td>\n",
              "      <td>9.67</td>\n",
              "      <td>22.4</td>\n",
              "    </tr>\n",
              "    <tr>\n",
              "      <th>502</th>\n",
              "      <td>0.04527</td>\n",
              "      <td>0.0</td>\n",
              "      <td>11.93</td>\n",
              "      <td>0</td>\n",
              "      <td>6.120</td>\n",
              "      <td>76.7</td>\n",
              "      <td>2.2875</td>\n",
              "      <td>1</td>\n",
              "      <td>273</td>\n",
              "      <td>21.0</td>\n",
              "      <td>396.90</td>\n",
              "      <td>9.08</td>\n",
              "      <td>20.6</td>\n",
              "    </tr>\n",
              "    <tr>\n",
              "      <th>503</th>\n",
              "      <td>0.06076</td>\n",
              "      <td>0.0</td>\n",
              "      <td>11.93</td>\n",
              "      <td>0</td>\n",
              "      <td>6.976</td>\n",
              "      <td>91.0</td>\n",
              "      <td>2.1675</td>\n",
              "      <td>1</td>\n",
              "      <td>273</td>\n",
              "      <td>21.0</td>\n",
              "      <td>396.90</td>\n",
              "      <td>5.64</td>\n",
              "      <td>23.9</td>\n",
              "    </tr>\n",
              "    <tr>\n",
              "      <th>504</th>\n",
              "      <td>0.10959</td>\n",
              "      <td>0.0</td>\n",
              "      <td>11.93</td>\n",
              "      <td>0</td>\n",
              "      <td>6.794</td>\n",
              "      <td>89.3</td>\n",
              "      <td>2.3889</td>\n",
              "      <td>1</td>\n",
              "      <td>273</td>\n",
              "      <td>21.0</td>\n",
              "      <td>393.45</td>\n",
              "      <td>6.48</td>\n",
              "      <td>22.0</td>\n",
              "    </tr>\n",
              "    <tr>\n",
              "      <th>505</th>\n",
              "      <td>0.04741</td>\n",
              "      <td>0.0</td>\n",
              "      <td>11.93</td>\n",
              "      <td>0</td>\n",
              "      <td>6.030</td>\n",
              "      <td>80.8</td>\n",
              "      <td>2.5050</td>\n",
              "      <td>1</td>\n",
              "      <td>273</td>\n",
              "      <td>21.0</td>\n",
              "      <td>396.90</td>\n",
              "      <td>7.88</td>\n",
              "      <td>11.9</td>\n",
              "    </tr>\n",
              "  </tbody>\n",
              "</table>\n",
              "<p>506 rows × 13 columns</p>\n",
              "</div>"
            ],
            "text/plain": [
              "     crime_rate  land zoned  busines_in_TownS  River_dummy  \\\n",
              "0       0.00632        18.0              2.31            0   \n",
              "1       0.02731         0.0              7.07            0   \n",
              "2       0.02729         0.0              7.07            0   \n",
              "3       0.03237         0.0              2.18            0   \n",
              "4       0.06905         0.0              2.18            0   \n",
              "..          ...         ...               ...          ...   \n",
              "501     0.06263         0.0             11.93            0   \n",
              "502     0.04527         0.0             11.93            0   \n",
              "503     0.06076         0.0             11.93            0   \n",
              "504     0.10959         0.0             11.93            0   \n",
              "505     0.04741         0.0             11.93            0   \n",
              "\n",
              "     average number of rooms    AGE  distances to Boston center   highways  \\\n",
              "0                       6.575  65.2                      4.0900          1   \n",
              "1                       6.421  78.9                      4.9671          2   \n",
              "2                       7.185  61.1                      4.9671          2   \n",
              "3                       6.998  45.8                      6.0622          3   \n",
              "4                       7.147  54.2                      6.0622          3   \n",
              "..                        ...   ...                         ...        ...   \n",
              "501                     6.593  69.1                      2.4786          1   \n",
              "502                     6.120  76.7                      2.2875          1   \n",
              "503                     6.976  91.0                      2.1675          1   \n",
              "504                     6.794  89.3                      2.3889          1   \n",
              "505                     6.030  80.8                      2.5050          1   \n",
              "\n",
              "     TAX  Teacher Ratio  Black population index  \\\n",
              "0    296           15.3                  396.90   \n",
              "1    242           17.8                  396.90   \n",
              "2    242           17.8                  392.83   \n",
              "3    222           18.7                  394.63   \n",
              "4    222           18.7                  396.90   \n",
              "..   ...            ...                     ...   \n",
              "501  273           21.0                  391.99   \n",
              "502  273           21.0                  396.90   \n",
              "503  273           21.0                  396.90   \n",
              "504  273           21.0                  393.45   \n",
              "505  273           21.0                  396.90   \n",
              "\n",
              "     Lower Status of the Population  Value of Homes  \n",
              "0                              4.98            24.0  \n",
              "1                              9.14            21.6  \n",
              "2                              4.03            34.7  \n",
              "3                              2.94            33.4  \n",
              "4                              5.33            36.2  \n",
              "..                              ...             ...  \n",
              "501                            9.67            22.4  \n",
              "502                            9.08            20.6  \n",
              "503                            5.64            23.9  \n",
              "504                            6.48            22.0  \n",
              "505                            7.88            11.9  \n",
              "\n",
              "[506 rows x 13 columns]"
            ]
          },
          "execution_count": 2,
          "metadata": {},
          "output_type": "execute_result"
        }
      ],
      "source": [
        "df = pd.read_csv(\"Boston-house-price-data.csv\")\n",
        "df"
      ]
    },
    {
      "cell_type": "markdown",
      "id": "CZdwcnQ7T10x",
      "metadata": {
        "id": "CZdwcnQ7T10x"
      },
      "source": [
        "2.2 Use **seaborn.pairplot()** to visually the relationship between input features (River dummy and Lower Status of the Population\t) and the target variable 'Value of Homes'.\n",
        "\n",
        "\n"
      ]
    },
    {
      "cell_type": "code",
      "execution_count": 4,
      "id": "aHdUnNlFVCBl",
      "metadata": {
        "colab": {
          "base_uri": "https://localhost:8080/",
          "height": 282
        },
        "id": "aHdUnNlFVCBl",
        "outputId": "aad4f271-45db-4682-cdb3-82b4946242c5"
      },
      "outputs": [
        {
          "data": {
            "text/plain": [
              "<seaborn.axisgrid.PairGrid at 0x1edd991cf50>"
            ]
          },
          "execution_count": 4,
          "metadata": {},
          "output_type": "execute_result"
        },
        {
          "data": {
            "image/png": "[encoded data removed]",
            "text/plain": [
              "<Figure size 500x250 with 2 Axes>"
            ]
          },
          "metadata": {},
          "output_type": "display_data"
        }
      ],
      "source": [
        "sns.pairplot(df, diag_kind='kde', markers='o', x_vars=['River_dummy', 'Lower Status of the Population'], y_vars=['Value of Homes'])"
      ]
    },
    {
      "cell_type": "markdown",
      "id": "360b31a4",
      "metadata": {
        "id": "360b31a4"
      },
      "source": [
        "Task 3: Data Preprocessing\n",
        " Select the 'land zoned' as (X) and 'Value of Homes' as the target (y)."
      ]
    },
    {
      "cell_type": "code",
      "execution_count": 53,
      "id": "ff08c697",
      "metadata": {
        "id": "ff08c697"
      },
      "outputs": [],
      "source": [
        "X = df['land zoned']\n",
        "y = df['Value of Homes']\n"
      ]
    },
    {
      "cell_type": "markdown",
      "id": "oHrxVnqcZiOy",
      "metadata": {
        "id": "oHrxVnqcZiOy"
      },
      "source": [
        "3.1 Split data into training and test sets (80%/20%)."
      ]
    },
    {
      "cell_type": "code",
      "execution_count": 51,
      "id": "DuYjoBINZlW0",
      "metadata": {
        "id": "DuYjoBINZlW0"
      },
      "outputs": [],
      "source": [
        "X_train, X_test, y_train, y_test = train_test_split(X, y, test_size=0.2, random_state=42)"
      ]
    },
    {
      "cell_type": "markdown",
      "id": "b4d28be2",
      "metadata": {
        "id": "b4d28be2"
      },
      "source": [
        "Task 4: Manual Calculation of β₀ and β₁ (Using 'land zoned' only)\n",
        "\n",
        "Calculate β₀(intercept) and β₁(slope) manually using the formulas for simple linear regression.\n",
        "\n",
        "\n",
        "\n",
        "![11.png](data:image/png;base64,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)"
      ]
    },
    {
      "cell_type": "markdown",
      "id": "d35ON22RqjUw",
      "metadata": {
        "id": "d35ON22RqjUw"
      },
      "source": [
        "Hint:\n",
        "\n",
        " - compute the mean of the feature (x_mean) and the target (y_mean).\n",
        "\n",
        " - Then use the formulas.\n",
        "\n",
        " - plug these into the simple regression equation."
      ]
    },
    {
      "cell_type": "code",
      "execution_count": 76,
      "id": "17467d76",
      "metadata": {},
      "outputs": [
        {
          "name": "stdout",
          "output_type": "stream",
          "text": [
            "Beta 1 (slope): 0.14213999415535436\n",
            "Beta 0 (intercept): 20.917579117799832\n"
          ]
        }
      ],
      "source": [
        "X_mean = np.mean(X)\n",
        "y_mean = np.mean(y)\n",
        "\n",
        "numerator = np.sum((X - X_mean) * (y - y_mean))\n",
        "denominator = np.sum((X - X_mean)**2)\n",
        "\n",
        "# Step 3: calculate beta1 and beta0\n",
        "beta_1 = numerator / denominator\n",
        "beta_0 = y_mean - beta_1 * X_mean\n",
        "\n",
        "print(\"Beta 1 (slope):\", beta_1)\n",
        "print(\"Beta 0 (intercept):\", beta_0)"
      ]
    },
    {
      "cell_type": "code",
      "execution_count": null,
      "id": "Sv_y87G-Zyrf",
      "metadata": {
        "colab": {
          "base_uri": "https://localhost:8080/"
        },
        "id": "Sv_y87G-Zyrf",
        "outputId": "a12a71d4-55c1-403b-e92c-5f09821dc069"
      },
      "outputs": [
        {
          "name": "stdout",
          "output_type": "stream",
          "text": [
            "Beta 1 (slope): 0.09810926618810711\n",
            "Beta 0 (intercept): 21.68165662860049\n"
          ]
        }
      ],
      "source": []
    },
    {
      "cell_type": "markdown",
      "id": "1IUy2eOaZ45W",
      "metadata": {
        "id": "1IUy2eOaZ45W"
      },
      "source": [
        " Task 5: Train Linear Regression Model\n",
        "\n",
        " Create and train a Linear Regression model using sklearn.\n",
        "\n",
        "  Hint: Use .fit()"
      ]
    },
    {
      "cell_type": "code",
      "execution_count": 77,
      "id": "kqND-2anZ4OC",
      "metadata": {
        "colab": {
          "base_uri": "https://localhost:8080/",
          "height": 80
        },
        "id": "kqND-2anZ4OC",
        "outputId": "52a11ecb-87b2-44a6-c554-a9c56aaccef7"
      },
      "outputs": [
        {
          "data": {
            "text/html": [
              "<style>#sk-container-id-5 {\n",
              "  /* Definition of color scheme common for light and dark mode */\n",
              "  --sklearn-color-text: #000;\n",
              "  --sklearn-color-text-muted: #666;\n",
              "  --sklearn-color-line: gray;\n",
              "  /* Definition of color scheme for unfitted estimators */\n",
              "  --sklearn-color-unfitted-level-0: #fff5e6;\n",
              "  --sklearn-color-unfitted-level-1: #f6e4d2;\n",
              "  --sklearn-color-unfitted-level-2: #ffe0b3;\n",
              "  --sklearn-color-unfitted-level-3: chocolate;\n",
              "  /* Definition of color scheme for fitted estimators */\n",
              "  --sklearn-color-fitted-level-0: #f0f8ff;\n",
              "  --sklearn-color-fitted-level-1: #d4ebff;\n",
              "  --sklearn-color-fitted-level-2: #b3dbfd;\n",
              "  --sklearn-color-fitted-level-3: cornflowerblue;\n",
              "\n",
              "  /* Specific color for light theme */\n",
              "  --sklearn-color-text-on-default-background: var(--sg-text-color, var(--theme-code-foreground, var(--jp-content-font-color1, black)));\n",
              "  --sklearn-color-background: var(--sg-background-color, var(--theme-background, var(--jp-layout-color0, white)));\n",
              "  --sklearn-color-border-box: var(--sg-text-color, var(--theme-code-foreground, var(--jp-content-font-color1, black)));\n",
              "  --sklearn-color-icon: #696969;\n",
              "\n",
              "  @media (prefers-color-scheme: dark) {\n",
              "    /* Redefinition of color scheme for dark theme */\n",
              "    --sklearn-color-text-on-default-background: var(--sg-text-color, var(--theme-code-foreground, var(--jp-content-font-color1, white)));\n",
              "    --sklearn-color-background: var(--sg-background-color, var(--theme-background, var(--jp-layout-color0, #111)));\n",
              "    --sklearn-color-border-box: var(--sg-text-color, var(--theme-code-foreground, var(--jp-content-font-color1, white)));\n",
              "    --sklearn-color-icon: #878787;\n",
              "  }\n",
              "}\n",
              "\n",
              "#sk-container-id-5 {\n",
              "  color: var(--sklearn-color-text);\n",
              "}\n",
              "\n",
              "#sk-container-id-5 pre {\n",
              "  padding: 0;\n",
              "}\n",
              "\n",
              "#sk-container-id-5 input.sk-hidden--visually {\n",
              "  border: 0;\n",
              "  clip: rect(1px 1px 1px 1px);\n",
              "  clip: rect(1px, 1px, 1px, 1px);\n",
              "  height: 1px;\n",
              "  margin: -1px;\n",
              "  overflow: hidden;\n",
              "  padding: 0;\n",
              "  position: absolute;\n",
              "  width: 1px;\n",
              "}\n",
              "\n",
              "#sk-container-id-5 div.sk-dashed-wrapped {\n",
              "  border: 1px dashed var(--sklearn-color-line);\n",
              "  margin: 0 0.4em 0.5em 0.4em;\n",
              "  box-sizing: border-box;\n",
              "  padding-bottom: 0.4em;\n",
              "  background-color: var(--sklearn-color-background);\n",
              "}\n",
              "\n",
              "#sk-container-id-5 div.sk-container {\n",
              "  /* jupyter's `normalize.less` sets `[hidden] { display: none; }`\n",
              "     but bootstrap.min.css set `[hidden] { display: none !important; }`\n",
              "     so we also need the `!important` here to be able to override the\n",
              "     default hidden behavior on the sphinx rendered scikit-learn.org.\n",
              "     See: https://github.com/scikit-learn/scikit-learn/issues/21755 */\n",
              "  display: inline-block !important;\n",
              "  position: relative;\n",
              "}\n",
              "\n",
              "#sk-container-id-5 div.sk-text-repr-fallback {\n",
              "  display: none;\n",
              "}\n",
              "\n",
              "div.sk-parallel-item,\n",
              "div.sk-serial,\n",
              "div.sk-item {\n",
              "  /* draw centered vertical line to link estimators */\n",
              "  background-image: linear-gradient(var(--sklearn-color-text-on-default-background), var(--sklearn-color-text-on-default-background));\n",
              "  background-size: 2px 100%;\n",
              "  background-repeat: no-repeat;\n",
              "  background-position: center center;\n",
              "}\n",
              "\n",
              "/* Parallel-specific style estimator block */\n",
              "\n",
              "#sk-container-id-5 div.sk-parallel-item::after {\n",
              "  content: \"\";\n",
              "  width: 100%;\n",
              "  border-bottom: 2px solid var(--sklearn-color-text-on-default-background);\n",
              "  flex-grow: 1;\n",
              "}\n",
              "\n",
              "#sk-container-id-5 div.sk-parallel {\n",
              "  display: flex;\n",
              "  align-items: stretch;\n",
              "  justify-content: center;\n",
              "  background-color: var(--sklearn-color-background);\n",
              "  position: relative;\n",
              "}\n",
              "\n",
              "#sk-container-id-5 div.sk-parallel-item {\n",
              "  display: flex;\n",
              "  flex-direction: column;\n",
              "}\n",
              "\n",
              "#sk-container-id-5 div.sk-parallel-item:first-child::after {\n",
              "  align-self: flex-end;\n",
              "  width: 50%;\n",
              "}\n",
              "\n",
              "#sk-container-id-5 div.sk-parallel-item:last-child::after {\n",
              "  align-self: flex-start;\n",
              "  width: 50%;\n",
              "}\n",
              "\n",
              "#sk-container-id-5 div.sk-parallel-item:only-child::after {\n",
              "  width: 0;\n",
              "}\n",
              "\n",
              "/* Serial-specific style estimator block */\n",
              "\n",
              "#sk-container-id-5 div.sk-serial {\n",
              "  display: flex;\n",
              "  flex-direction: column;\n",
              "  align-items: center;\n",
              "  background-color: var(--sklearn-color-background);\n",
              "  padding-right: 1em;\n",
              "  padding-left: 1em;\n",
              "}\n",
              "\n",
              "\n",
              "/* Toggleable style: style used for estimator/Pipeline/ColumnTransformer box that is\n",
              "clickable and can be expanded/collapsed.\n",
              "- Pipeline and ColumnTransformer use this feature and define the default style\n",
              "- Estimators will overwrite some part of the style using the `sk-estimator` class\n",
              "*/\n",
              "\n",
              "/* Pipeline and ColumnTransformer style (default) */\n",
              "\n",
              "#sk-container-id-5 div.sk-toggleable {\n",
              "  /* Default theme specific background. It is overwritten whether we have a\n",
              "  specific estimator or a Pipeline/ColumnTransformer */\n",
              "  background-color: var(--sklearn-color-background);\n",
              "}\n",
              "\n",
              "/* Toggleable label */\n",
              "#sk-container-id-5 label.sk-toggleable__label {\n",
              "  cursor: pointer;\n",
              "  display: flex;\n",
              "  width: 100%;\n",
              "  margin-bottom: 0;\n",
              "  padding: 0.5em;\n",
              "  box-sizing: border-box;\n",
              "  text-align: center;\n",
              "  align-items: start;\n",
              "  justify-content: space-between;\n",
              "  gap: 0.5em;\n",
              "}\n",
              "\n",
              "#sk-container-id-5 label.sk-toggleable__label .caption {\n",
              "  font-size: 0.6rem;\n",
              "  font-weight: lighter;\n",
              "  color: var(--sklearn-color-text-muted);\n",
              "}\n",
              "\n",
              "#sk-container-id-5 label.sk-toggleable__label-arrow:before {\n",
              "  /* Arrow on the left of the label */\n",
              "  content: \"▸\";\n",
              "  float: left;\n",
              "  margin-right: 0.25em;\n",
              "  color: var(--sklearn-color-icon);\n",
              "}\n",
              "\n",
              "#sk-container-id-5 label.sk-toggleable__label-arrow:hover:before {\n",
              "  color: var(--sklearn-color-text);\n",
              "}\n",
              "\n",
              "/* Toggleable content - dropdown */\n",
              "\n",
              "#sk-container-id-5 div.sk-toggleable__content {\n",
              "  max-height: 0;\n",
              "  max-width: 0;\n",
              "  overflow: hidden;\n",
              "  text-align: left;\n",
              "  /* unfitted */\n",
              "  background-color: var(--sklearn-color-unfitted-level-0);\n",
              "}\n",
              "\n",
              "#sk-container-id-5 div.sk-toggleable__content.fitted {\n",
              "  /* fitted */\n",
              "  background-color: var(--sklearn-color-fitted-level-0);\n",
              "}\n",
              "\n",
              "#sk-container-id-5 div.sk-toggleable__content pre {\n",
              "  margin: 0.2em;\n",
              "  border-radius: 0.25em;\n",
              "  color: var(--sklearn-color-text);\n",
              "  /* unfitted */\n",
              "  background-color: var(--sklearn-color-unfitted-level-0);\n",
              "}\n",
              "\n",
              "#sk-container-id-5 div.sk-toggleable__content.fitted pre {\n",
              "  /* unfitted */\n",
              "  background-color: var(--sklearn-color-fitted-level-0);\n",
              "}\n",
              "\n",
              "#sk-container-id-5 input.sk-toggleable__control:checked~div.sk-toggleable__content {\n",
              "  /* Expand drop-down */\n",
              "  max-height: 200px;\n",
              "  max-width: 100%;\n",
              "  overflow: auto;\n",
              "}\n",
              "\n",
              "#sk-container-id-5 input.sk-toggleable__control:checked~label.sk-toggleable__label-arrow:before {\n",
              "  content: \"▾\";\n",
              "}\n",
              "\n",
              "/* Pipeline/ColumnTransformer-specific style */\n",
              "\n",
              "#sk-container-id-5 div.sk-label input.sk-toggleable__control:checked~label.sk-toggleable__label {\n",
              "  color: var(--sklearn-color-text);\n",
              "  background-color: var(--sklearn-color-unfitted-level-2);\n",
              "}\n",
              "\n",
              "#sk-container-id-5 div.sk-label.fitted input.sk-toggleable__control:checked~label.sk-toggleable__label {\n",
              "  background-color: var(--sklearn-color-fitted-level-2);\n",
              "}\n",
              "\n",
              "/* Estimator-specific style */\n",
              "\n",
              "/* Colorize estimator box */\n",
              "#sk-container-id-5 div.sk-estimator input.sk-toggleable__control:checked~label.sk-toggleable__label {\n",
              "  /* unfitted */\n",
              "  background-color: var(--sklearn-color-unfitted-level-2);\n",
              "}\n",
              "\n",
              "#sk-container-id-5 div.sk-estimator.fitted input.sk-toggleable__control:checked~label.sk-toggleable__label {\n",
              "  /* fitted */\n",
              "  background-color: var(--sklearn-color-fitted-level-2);\n",
              "}\n",
              "\n",
              "#sk-container-id-5 div.sk-label label.sk-toggleable__label,\n",
              "#sk-container-id-5 div.sk-label label {\n",
              "  /* The background is the default theme color */\n",
              "  color: var(--sklearn-color-text-on-default-background);\n",
              "}\n",
              "\n",
              "/* On hover, darken the color of the background */\n",
              "#sk-container-id-5 div.sk-label:hover label.sk-toggleable__label {\n",
              "  color: var(--sklearn-color-text);\n",
              "  background-color: var(--sklearn-color-unfitted-level-2);\n",
              "}\n",
              "\n",
              "/* Label box, darken color on hover, fitted */\n",
              "#sk-container-id-5 div.sk-label.fitted:hover label.sk-toggleable__label.fitted {\n",
              "  color: var(--sklearn-color-text);\n",
              "  background-color: var(--sklearn-color-fitted-level-2);\n",
              "}\n",
              "\n",
              "/* Estimator label */\n",
              "\n",
              "#sk-container-id-5 div.sk-label label {\n",
              "  font-family: monospace;\n",
              "  font-weight: bold;\n",
              "  display: inline-block;\n",
              "  line-height: 1.2em;\n",
              "}\n",
              "\n",
              "#sk-container-id-5 div.sk-label-container {\n",
              "  text-align: center;\n",
              "}\n",
              "\n",
              "/* Estimator-specific */\n",
              "#sk-container-id-5 div.sk-estimator {\n",
              "  font-family: monospace;\n",
              "  border: 1px dotted var(--sklearn-color-border-box);\n",
              "  border-radius: 0.25em;\n",
              "  box-sizing: border-box;\n",
              "  margin-bottom: 0.5em;\n",
              "  /* unfitted */\n",
              "  background-color: var(--sklearn-color-unfitted-level-0);\n",
              "}\n",
              "\n",
              "#sk-container-id-5 div.sk-estimator.fitted {\n",
              "  /* fitted */\n",
              "  background-color: var(--sklearn-color-fitted-level-0);\n",
              "}\n",
              "\n",
              "/* on hover */\n",
              "#sk-container-id-5 div.sk-estimator:hover {\n",
              "  /* unfitted */\n",
              "  background-color: var(--sklearn-color-unfitted-level-2);\n",
              "}\n",
              "\n",
              "#sk-container-id-5 div.sk-estimator.fitted:hover {\n",
              "  /* fitted */\n",
              "  background-color: var(--sklearn-color-fitted-level-2);\n",
              "}\n",
              "\n",
              "/* Specification for estimator info (e.g. \"i\" and \"?\") */\n",
              "\n",
              "/* Common style for \"i\" and \"?\" */\n",
              "\n",
              ".sk-estimator-doc-link,\n",
              "a:link.sk-estimator-doc-link,\n",
              "a:visited.sk-estimator-doc-link {\n",
              "  float: right;\n",
              "  font-size: smaller;\n",
              "  line-height: 1em;\n",
              "  font-family: monospace;\n",
              "  background-color: var(--sklearn-color-background);\n",
              "  border-radius: 1em;\n",
              "  height: 1em;\n",
              "  width: 1em;\n",
              "  text-decoration: none !important;\n",
              "  margin-left: 0.5em;\n",
              "  text-align: center;\n",
              "  /* unfitted */\n",
              "  border: var(--sklearn-color-unfitted-level-1) 1pt solid;\n",
              "  color: var(--sklearn-color-unfitted-level-1);\n",
              "}\n",
              "\n",
              ".sk-estimator-doc-link.fitted,\n",
              "a:link.sk-estimator-doc-link.fitted,\n",
              "a:visited.sk-estimator-doc-link.fitted {\n",
              "  /* fitted */\n",
              "  border: var(--sklearn-color-fitted-level-1) 1pt solid;\n",
              "  color: var(--sklearn-color-fitted-level-1);\n",
              "}\n",
              "\n",
              "/* On hover */\n",
              "div.sk-estimator:hover .sk-estimator-doc-link:hover,\n",
              ".sk-estimator-doc-link:hover,\n",
              "div.sk-label-container:hover .sk-estimator-doc-link:hover,\n",
              ".sk-estimator-doc-link:hover {\n",
              "  /* unfitted */\n",
              "  background-color: var(--sklearn-color-unfitted-level-3);\n",
              "  color: var(--sklearn-color-background);\n",
              "  text-decoration: none;\n",
              "}\n",
              "\n",
              "div.sk-estimator.fitted:hover .sk-estimator-doc-link.fitted:hover,\n",
              ".sk-estimator-doc-link.fitted:hover,\n",
              "div.sk-label-container:hover .sk-estimator-doc-link.fitted:hover,\n",
              ".sk-estimator-doc-link.fitted:hover {\n",
              "  /* fitted */\n",
              "  background-color: var(--sklearn-color-fitted-level-3);\n",
              "  color: var(--sklearn-color-background);\n",
              "  text-decoration: none;\n",
              "}\n",
              "\n",
              "/* Span, style for the box shown on hovering the info icon */\n",
              ".sk-estimator-doc-link span {\n",
              "  display: none;\n",
              "  z-index: 9999;\n",
              "  position: relative;\n",
              "  font-weight: normal;\n",
              "  right: .2ex;\n",
              "  padding: .5ex;\n",
              "  margin: .5ex;\n",
              "  width: min-content;\n",
              "  min-width: 20ex;\n",
              "  max-width: 50ex;\n",
              "  color: var(--sklearn-color-text);\n",
              "  box-shadow: 2pt 2pt 4pt #999;\n",
              "  /* unfitted */\n",
              "  background: var(--sklearn-color-unfitted-level-0);\n",
              "  border: .5pt solid var(--sklearn-color-unfitted-level-3);\n",
              "}\n",
              "\n",
              ".sk-estimator-doc-link.fitted span {\n",
              "  /* fitted */\n",
              "  background: var(--sklearn-color-fitted-level-0);\n",
              "  border: var(--sklearn-color-fitted-level-3);\n",
              "}\n",
              "\n",
              ".sk-estimator-doc-link:hover span {\n",
              "  display: block;\n",
              "}\n",
              "\n",
              "/* \"?\"-specific style due to the `<a>` HTML tag */\n",
              "\n",
              "#sk-container-id-5 a.estimator_doc_link {\n",
              "  float: right;\n",
              "  font-size: 1rem;\n",
              "  line-height: 1em;\n",
              "  font-family: monospace;\n",
              "  background-color: var(--sklearn-color-background);\n",
              "  border-radius: 1rem;\n",
              "  height: 1rem;\n",
              "  width: 1rem;\n",
              "  text-decoration: none;\n",
              "  /* unfitted */\n",
              "  color: var(--sklearn-color-unfitted-level-1);\n",
              "  border: var(--sklearn-color-unfitted-level-1) 1pt solid;\n",
              "}\n",
              "\n",
              "#sk-container-id-5 a.estimator_doc_link.fitted {\n",
              "  /* fitted */\n",
              "  border: var(--sklearn-color-fitted-level-1) 1pt solid;\n",
              "  color: var(--sklearn-color-fitted-level-1);\n",
              "}\n",
              "\n",
              "/* On hover */\n",
              "#sk-container-id-5 a.estimator_doc_link:hover {\n",
              "  /* unfitted */\n",
              "  background-color: var(--sklearn-color-unfitted-level-3);\n",
              "  color: var(--sklearn-color-background);\n",
              "  text-decoration: none;\n",
              "}\n",
              "\n",
              "#sk-container-id-5 a.estimator_doc_link.fitted:hover {\n",
              "  /* fitted */\n",
              "  background-color: var(--sklearn-color-fitted-level-3);\n",
              "}\n",
              "</style><div id=\"sk-container-id-5\" class=\"sk-top-container\"><div class=\"sk-text-repr-fallback\"><pre>LinearRegression()</pre><b>In a Jupyter environment, please rerun this cell to show the HTML representation or trust the notebook. <br />On GitHub, the HTML representation is unable to render, please try loading this page with nbviewer.org.</b></div><div class=\"sk-container\" hidden><div class=\"sk-item\"><div class=\"sk-estimator fitted sk-toggleable\"><input class=\"sk-toggleable__control sk-hidden--visually\" id=\"sk-estimator-id-5\" type=\"checkbox\" checked><label for=\"sk-estimator-id-5\" class=\"sk-toggleable__label fitted sk-toggleable__label-arrow\"><div><div>LinearRegression</div></div><div><a class=\"sk-estimator-doc-link fitted\" rel=\"noreferrer\" target=\"_blank\" href=\"https://scikit-learn.org/1.6/modules/generated/sklearn.linear_model.LinearRegression.html\">?<span>Documentation for LinearRegression</span></a><span class=\"sk-estimator-doc-link fitted\">i<span>Fitted</span></span></div></label><div class=\"sk-toggleable__content fitted\"><pre>LinearRegression()</pre></div> </div></div></div></div>"
            ],
            "text/plain": [
              "LinearRegression()"
            ]
          },
          "execution_count": 77,
          "metadata": {},
          "output_type": "execute_result"
        }
      ],
      "source": [
        "model = LinearRegression()\n",
        "model.fit(X_train.values.reshape(-1, 1), y_train)\n"
      ]
    },
    {
      "cell_type": "markdown",
      "id": "UV_bu2RckjHh",
      "metadata": {
        "id": "UV_bu2RckjHh"
      },
      "source": [
        "5.2 Print the Intercept and coefficients\n",
        "\n",
        "Hint : Use .intercept_ and .coef_"
      ]
    },
    {
      "cell_type": "code",
      "execution_count": 55,
      "id": "8226e3cb",
      "metadata": {},
      "outputs": [
        {
          "name": "stdout",
          "output_type": "stream",
          "text": [
            "Intercept: 21.353233067252766\n",
            "Slope: 0.12475264031448047\n"
          ]
        }
      ],
      "source": [
        "print(\"Intercept:\", model.intercept_)\n",
        "print(\"Slope:\", model.coef_[0])"
      ]
    },
    {
      "cell_type": "markdown",
      "id": "qetHbGIhaDiE",
      "metadata": {
        "id": "qetHbGIhaDiE"
      },
      "source": [
        "Task 6: Make Predictions\n",
        "\n",
        "Use the trained model to predict the prices of the test data.\n",
        "\n",
        "Hint: Use .predict()"
      ]
    },
    {
      "cell_type": "code",
      "execution_count": null,
      "id": "OXvIz4OSaFhF",
      "metadata": {
        "id": "OXvIz4OSaFhF"
      },
      "outputs": [],
      "source": [
        "y_pred = model.predict(X_test.values.reshape(-1, 1))"
      ]
    },
    {
      "cell_type": "markdown",
      "id": "eXEx9NbZaJjD",
      "metadata": {
        "id": "eXEx9NbZaJjD"
      },
      "source": [
        "Task 7: Evaluate the Model\n",
        "\n",
        "Evaluate the performance of the model using Mean Squared Error ,Root quared Error  and R² score."
      ]
    },
    {
      "cell_type": "code",
      "execution_count": 41,
      "id": "c93a616b",
      "metadata": {},
      "outputs": [
        {
          "name": "stdout",
          "output_type": "stream",
          "text": [
            "Mean Squared Error: 54.34745382306917\n",
            "Root Mean Squared Error: 7.372072559536373\n",
            "R-squared: 0.25890290285100526\n"
          ]
        }
      ],
      "source": [
        "MSE = mean_squared_error(y_test, y_pred)\n",
        "RMSE = np.sqrt(MSE)\n",
        "R2 = r2_score(y_test, y_pred)\n",
        "print(\"Mean Squared Error:\", MSE)\n",
        "print(\"Root Mean Squared Error:\", RMSE)\n",
        "print(\"R-squared:\", R2)"
      ]
    },
    {
      "cell_type": "markdown",
      "id": "3yuoKzZ5aS4E",
      "metadata": {
        "id": "3yuoKzZ5aS4E"
      },
      "source": [
        "Task 8: Visualize Results\n",
        "\n",
        "Create a scatter plot comparing actual vs. Land Zoned house prices and add the best-fit line (regression line)."
      ]
    },
    {
      "cell_type": "code",
      "execution_count": null,
      "id": "hOn_DGSa6uUb",
      "metadata": {
        "colab": {
          "base_uri": "https://localhost:8080/",
          "height": 472
        },
        "id": "hOn_DGSa6uUb",
        "outputId": "a1a7ae73-2260-4985-dd3c-9a6b7e4384dd"
      },
      "outputs": [
        {
          "data": {
            "image/png": "[encoded data removed]",
            "text/plain": [
              "<Figure size 800x600 with 1 Axes>"
            ]
          },
          "metadata": {},
          "output_type": "display_data"
        }
      ],
      "source": [
        "# Plot 1: Actual Prices vs. Land Zoned (with regression line)\n",
        "plt.figure(figsize=(10, 5))\n",
        "plt.scatter(X_test, y_test, color='blue', alpha=0.6, label='Actual Prices')\n",
        "\n",
        "# Regression line (using the trained model)\n",
        "x_line = np.linspace(X.min(), X.max(), 100).reshape(-1, 1)\n",
        "y_line = model.predict(x_line)\n",
        "plt.plot(x_line, y_line, 'r-', linewidth=2, label='Regression Line')\n",
        "\n",
        "plt.xlabel('Land Zoned')\n",
        "plt.ylabel('Actual House Prices ($)')\n",
        "plt.title('House Prices vs. Land Zoned (Test Data)')\n",
        "plt.legend()\n",
        "plt.grid(True, linestyle='--', alpha=0.3)\n",
        "plt.show()"
      ]
    },
    {
      "cell_type": "markdown",
      "id": "pZxMUPALYHTv",
      "metadata": {
        "id": "pZxMUPALYHTv"
      },
      "source": [
        "# <h1><font color='red'> Part2: Multiple Linear Regression</font></h1>\n",
        "\n",
        "\n",
        "---\n",
        "\n"
      ]
    },
    {
      "cell_type": "markdown",
      "id": "RofGaXZmZQGp",
      "metadata": {
        "id": "RofGaXZmZQGp"
      },
      "source": [
        "Task1: Data Preprocessing\n",
        "\n",
        " Select  all the features as (X) and 'Value of Homes' as the target (y)."
      ]
    },
    {
      "cell_type": "code",
      "execution_count": 22,
      "id": "eClZLWWNZTlt",
      "metadata": {
        "id": "eClZLWWNZTlt"
      },
      "outputs": [],
      "source": [
        "\n",
        "X = df.drop(columns=['Value of Homes'])\n",
        "y = df['Value of Homes']\n",
        "\n"
      ]
    },
    {
      "cell_type": "markdown",
      "id": "ULeTjo0Po74T",
      "metadata": {
        "id": "ULeTjo0Po74T"
      },
      "source": [
        "Task2:\n",
        "\n",
        "Split data into training and test sets (80%/20%)."
      ]
    },
    {
      "cell_type": "code",
      "execution_count": 28,
      "id": "FhdDocEKo8HK",
      "metadata": {
        "id": "FhdDocEKo8HK"
      },
      "outputs": [
        {
          "name": "stdout",
          "output_type": "stream",
          "text": [
            "(404, 12)\n",
            "(404,)\n"
          ]
        }
      ],
      "source": [
        "X_train, X_test, y_train, y_test = train_test_split(X, y, test_size=0.2, random_state=42)\n",
        "print(X_train.shape)\n",
        "print(y_train.shape)\n",
        "\n"
      ]
    },
    {
      "cell_type": "markdown",
      "id": "b77ba3c9",
      "metadata": {
        "id": "b77ba3c9"
      },
      "source": [
        "Task 3: Train Linear Regression Model\n",
        "\n",
        " Create and train a Linear Regression model using sklearn."
      ]
    },
    {
      "cell_type": "code",
      "execution_count": 29,
      "id": "20b4a57d",
      "metadata": {
        "colab": {
          "base_uri": "https://localhost:8080/",
          "height": 80
        },
        "id": "20b4a57d",
        "outputId": "6b1a38f2-7106-4925-e1d6-9b419bfb941e"
      },
      "outputs": [
        {
          "data": {
            "text/html": [
              "<style>#sk-container-id-2 {\n",
              "  /* Definition of color scheme common for light and dark mode */\n",
              "  --sklearn-color-text: #000;\n",
              "  --sklearn-color-text-muted: #666;\n",
              "  --sklearn-color-line: gray;\n",
              "  /* Definition of color scheme for unfitted estimators */\n",
              "  --sklearn-color-unfitted-level-0: #fff5e6;\n",
              "  --sklearn-color-unfitted-level-1: #f6e4d2;\n",
              "  --sklearn-color-unfitted-level-2: #ffe0b3;\n",
              "  --sklearn-color-unfitted-level-3: chocolate;\n",
              "  /* Definition of color scheme for fitted estimators */\n",
              "  --sklearn-color-fitted-level-0: #f0f8ff;\n",
              "  --sklearn-color-fitted-level-1: #d4ebff;\n",
              "  --sklearn-color-fitted-level-2: #b3dbfd;\n",
              "  --sklearn-color-fitted-level-3: cornflowerblue;\n",
              "\n",
              "  /* Specific color for light theme */\n",
              "  --sklearn-color-text-on-default-background: var(--sg-text-color, var(--theme-code-foreground, var(--jp-content-font-color1, black)));\n",
              "  --sklearn-color-background: var(--sg-background-color, var(--theme-background, var(--jp-layout-color0, white)));\n",
              "  --sklearn-color-border-box: var(--sg-text-color, var(--theme-code-foreground, var(--jp-content-font-color1, black)));\n",
              "  --sklearn-color-icon: #696969;\n",
              "\n",
              "  @media (prefers-color-scheme: dark) {\n",
              "    /* Redefinition of color scheme for dark theme */\n",
              "    --sklearn-color-text-on-default-background: var(--sg-text-color, var(--theme-code-foreground, var(--jp-content-font-color1, white)));\n",
              "    --sklearn-color-background: var(--sg-background-color, var(--theme-background, var(--jp-layout-color0, #111)));\n",
              "    --sklearn-color-border-box: var(--sg-text-color, var(--theme-code-foreground, var(--jp-content-font-color1, white)));\n",
              "    --sklearn-color-icon: #878787;\n",
              "  }\n",
              "}\n",
              "\n",
              "#sk-container-id-2 {\n",
              "  color: var(--sklearn-color-text);\n",
              "}\n",
              "\n",
              "#sk-container-id-2 pre {\n",
              "  padding: 0;\n",
              "}\n",
              "\n",
              "#sk-container-id-2 input.sk-hidden--visually {\n",
              "  border: 0;\n",
              "  clip: rect(1px 1px 1px 1px);\n",
              "  clip: rect(1px, 1px, 1px, 1px);\n",
              "  height: 1px;\n",
              "  margin: -1px;\n",
              "  overflow: hidden;\n",
              "  padding: 0;\n",
              "  position: absolute;\n",
              "  width: 1px;\n",
              "}\n",
              "\n",
              "#sk-container-id-2 div.sk-dashed-wrapped {\n",
              "  border: 1px dashed var(--sklearn-color-line);\n",
              "  margin: 0 0.4em 0.5em 0.4em;\n",
              "  box-sizing: border-box;\n",
              "  padding-bottom: 0.4em;\n",
              "  background-color: var(--sklearn-color-background);\n",
              "}\n",
              "\n",
              "#sk-container-id-2 div.sk-container {\n",
              "  /* jupyter's `normalize.less` sets `[hidden] { display: none; }`\n",
              "     but bootstrap.min.css set `[hidden] { display: none !important; }`\n",
              "     so we also need the `!important` here to be able to override the\n",
              "     default hidden behavior on the sphinx rendered scikit-learn.org.\n",
              "     See: https://github.com/scikit-learn/scikit-learn/issues/21755 */\n",
              "  display: inline-block !important;\n",
              "  position: relative;\n",
              "}\n",
              "\n",
              "#sk-container-id-2 div.sk-text-repr-fallback {\n",
              "  display: none;\n",
              "}\n",
              "\n",
              "div.sk-parallel-item,\n",
              "div.sk-serial,\n",
              "div.sk-item {\n",
              "  /* draw centered vertical line to link estimators */\n",
              "  background-image: linear-gradient(var(--sklearn-color-text-on-default-background), var(--sklearn-color-text-on-default-background));\n",
              "  background-size: 2px 100%;\n",
              "  background-repeat: no-repeat;\n",
              "  background-position: center center;\n",
              "}\n",
              "\n",
              "/* Parallel-specific style estimator block */\n",
              "\n",
              "#sk-container-id-2 div.sk-parallel-item::after {\n",
              "  content: \"\";\n",
              "  width: 100%;\n",
              "  border-bottom: 2px solid var(--sklearn-color-text-on-default-background);\n",
              "  flex-grow: 1;\n",
              "}\n",
              "\n",
              "#sk-container-id-2 div.sk-parallel {\n",
              "  display: flex;\n",
              "  align-items: stretch;\n",
              "  justify-content: center;\n",
              "  background-color: var(--sklearn-color-background);\n",
              "  position: relative;\n",
              "}\n",
              "\n",
              "#sk-container-id-2 div.sk-parallel-item {\n",
              "  display: flex;\n",
              "  flex-direction: column;\n",
              "}\n",
              "\n",
              "#sk-container-id-2 div.sk-parallel-item:first-child::after {\n",
              "  align-self: flex-end;\n",
              "  width: 50%;\n",
              "}\n",
              "\n",
              "#sk-container-id-2 div.sk-parallel-item:last-child::after {\n",
              "  align-self: flex-start;\n",
              "  width: 50%;\n",
              "}\n",
              "\n",
              "#sk-container-id-2 div.sk-parallel-item:only-child::after {\n",
              "  width: 0;\n",
              "}\n",
              "\n",
              "/* Serial-specific style estimator block */\n",
              "\n",
              "#sk-container-id-2 div.sk-serial {\n",
              "  display: flex;\n",
              "  flex-direction: column;\n",
              "  align-items: center;\n",
              "  background-color: var(--sklearn-color-background);\n",
              "  padding-right: 1em;\n",
              "  padding-left: 1em;\n",
              "}\n",
              "\n",
              "\n",
              "/* Toggleable style: style used for estimator/Pipeline/ColumnTransformer box that is\n",
              "clickable and can be expanded/collapsed.\n",
              "- Pipeline and ColumnTransformer use this feature and define the default style\n",
              "- Estimators will overwrite some part of the style using the `sk-estimator` class\n",
              "*/\n",
              "\n",
              "/* Pipeline and ColumnTransformer style (default) */\n",
              "\n",
              "#sk-container-id-2 div.sk-toggleable {\n",
              "  /* Default theme specific background. It is overwritten whether we have a\n",
              "  specific estimator or a Pipeline/ColumnTransformer */\n",
              "  background-color: var(--sklearn-color-background);\n",
              "}\n",
              "\n",
              "/* Toggleable label */\n",
              "#sk-container-id-2 label.sk-toggleable__label {\n",
              "  cursor: pointer;\n",
              "  display: flex;\n",
              "  width: 100%;\n",
              "  margin-bottom: 0;\n",
              "  padding: 0.5em;\n",
              "  box-sizing: border-box;\n",
              "  text-align: center;\n",
              "  align-items: start;\n",
              "  justify-content: space-between;\n",
              "  gap: 0.5em;\n",
              "}\n",
              "\n",
              "#sk-container-id-2 label.sk-toggleable__label .caption {\n",
              "  font-size: 0.6rem;\n",
              "  font-weight: lighter;\n",
              "  color: var(--sklearn-color-text-muted);\n",
              "}\n",
              "\n",
              "#sk-container-id-2 label.sk-toggleable__label-arrow:before {\n",
              "  /* Arrow on the left of the label */\n",
              "  content: \"▸\";\n",
              "  float: left;\n",
              "  margin-right: 0.25em;\n",
              "  color: var(--sklearn-color-icon);\n",
              "}\n",
              "\n",
              "#sk-container-id-2 label.sk-toggleable__label-arrow:hover:before {\n",
              "  color: var(--sklearn-color-text);\n",
              "}\n",
              "\n",
              "/* Toggleable content - dropdown */\n",
              "\n",
              "#sk-container-id-2 div.sk-toggleable__content {\n",
              "  max-height: 0;\n",
              "  max-width: 0;\n",
              "  overflow: hidden;\n",
              "  text-align: left;\n",
              "  /* unfitted */\n",
              "  background-color: var(--sklearn-color-unfitted-level-0);\n",
              "}\n",
              "\n",
              "#sk-container-id-2 div.sk-toggleable__content.fitted {\n",
              "  /* fitted */\n",
              "  background-color: var(--sklearn-color-fitted-level-0);\n",
              "}\n",
              "\n",
              "#sk-container-id-2 div.sk-toggleable__content pre {\n",
              "  margin: 0.2em;\n",
              "  border-radius: 0.25em;\n",
              "  color: var(--sklearn-color-text);\n",
              "  /* unfitted */\n",
              "  background-color: var(--sklearn-color-unfitted-level-0);\n",
              "}\n",
              "\n",
              "#sk-container-id-2 div.sk-toggleable__content.fitted pre {\n",
              "  /* unfitted */\n",
              "  background-color: var(--sklearn-color-fitted-level-0);\n",
              "}\n",
              "\n",
              "#sk-container-id-2 input.sk-toggleable__control:checked~div.sk-toggleable__content {\n",
              "  /* Expand drop-down */\n",
              "  max-height: 200px;\n",
              "  max-width: 100%;\n",
              "  overflow: auto;\n",
              "}\n",
              "\n",
              "#sk-container-id-2 input.sk-toggleable__control:checked~label.sk-toggleable__label-arrow:before {\n",
              "  content: \"▾\";\n",
              "}\n",
              "\n",
              "/* Pipeline/ColumnTransformer-specific style */\n",
              "\n",
              "#sk-container-id-2 div.sk-label input.sk-toggleable__control:checked~label.sk-toggleable__label {\n",
              "  color: var(--sklearn-color-text);\n",
              "  background-color: var(--sklearn-color-unfitted-level-2);\n",
              "}\n",
              "\n",
              "#sk-container-id-2 div.sk-label.fitted input.sk-toggleable__control:checked~label.sk-toggleable__label {\n",
              "  background-color: var(--sklearn-color-fitted-level-2);\n",
              "}\n",
              "\n",
              "/* Estimator-specific style */\n",
              "\n",
              "/* Colorize estimator box */\n",
              "#sk-container-id-2 div.sk-estimator input.sk-toggleable__control:checked~label.sk-toggleable__label {\n",
              "  /* unfitted */\n",
              "  background-color: var(--sklearn-color-unfitted-level-2);\n",
              "}\n",
              "\n",
              "#sk-container-id-2 div.sk-estimator.fitted input.sk-toggleable__control:checked~label.sk-toggleable__label {\n",
              "  /* fitted */\n",
              "  background-color: var(--sklearn-color-fitted-level-2);\n",
              "}\n",
              "\n",
              "#sk-container-id-2 div.sk-label label.sk-toggleable__label,\n",
              "#sk-container-id-2 div.sk-label label {\n",
              "  /* The background is the default theme color */\n",
              "  color: var(--sklearn-color-text-on-default-background);\n",
              "}\n",
              "\n",
              "/* On hover, darken the color of the background */\n",
              "#sk-container-id-2 div.sk-label:hover label.sk-toggleable__label {\n",
              "  color: var(--sklearn-color-text);\n",
              "  background-color: var(--sklearn-color-unfitted-level-2);\n",
              "}\n",
              "\n",
              "/* Label box, darken color on hover, fitted */\n",
              "#sk-container-id-2 div.sk-label.fitted:hover label.sk-toggleable__label.fitted {\n",
              "  color: var(--sklearn-color-text);\n",
              "  background-color: var(--sklearn-color-fitted-level-2);\n",
              "}\n",
              "\n",
              "/* Estimator label */\n",
              "\n",
              "#sk-container-id-2 div.sk-label label {\n",
              "  font-family: monospace;\n",
              "  font-weight: bold;\n",
              "  display: inline-block;\n",
              "  line-height: 1.2em;\n",
              "}\n",
              "\n",
              "#sk-container-id-2 div.sk-label-container {\n",
              "  text-align: center;\n",
              "}\n",
              "\n",
              "/* Estimator-specific */\n",
              "#sk-container-id-2 div.sk-estimator {\n",
              "  font-family: monospace;\n",
              "  border: 1px dotted var(--sklearn-color-border-box);\n",
              "  border-radius: 0.25em;\n",
              "  box-sizing: border-box;\n",
              "  margin-bottom: 0.5em;\n",
              "  /* unfitted */\n",
              "  background-color: var(--sklearn-color-unfitted-level-0);\n",
              "}\n",
              "\n",
              "#sk-container-id-2 div.sk-estimator.fitted {\n",
              "  /* fitted */\n",
              "  background-color: var(--sklearn-color-fitted-level-0);\n",
              "}\n",
              "\n",
              "/* on hover */\n",
              "#sk-container-id-2 div.sk-estimator:hover {\n",
              "  /* unfitted */\n",
              "  background-color: var(--sklearn-color-unfitted-level-2);\n",
              "}\n",
              "\n",
              "#sk-container-id-2 div.sk-estimator.fitted:hover {\n",
              "  /* fitted */\n",
              "  background-color: var(--sklearn-color-fitted-level-2);\n",
              "}\n",
              "\n",
              "/* Specification for estimator info (e.g. \"i\" and \"?\") */\n",
              "\n",
              "/* Common style for \"i\" and \"?\" */\n",
              "\n",
              ".sk-estimator-doc-link,\n",
              "a:link.sk-estimator-doc-link,\n",
              "a:visited.sk-estimator-doc-link {\n",
              "  float: right;\n",
              "  font-size: smaller;\n",
              "  line-height: 1em;\n",
              "  font-family: monospace;\n",
              "  background-color: var(--sklearn-color-background);\n",
              "  border-radius: 1em;\n",
              "  height: 1em;\n",
              "  width: 1em;\n",
              "  text-decoration: none !important;\n",
              "  margin-left: 0.5em;\n",
              "  text-align: center;\n",
              "  /* unfitted */\n",
              "  border: var(--sklearn-color-unfitted-level-1) 1pt solid;\n",
              "  color: var(--sklearn-color-unfitted-level-1);\n",
              "}\n",
              "\n",
              ".sk-estimator-doc-link.fitted,\n",
              "a:link.sk-estimator-doc-link.fitted,\n",
              "a:visited.sk-estimator-doc-link.fitted {\n",
              "  /* fitted */\n",
              "  border: var(--sklearn-color-fitted-level-1) 1pt solid;\n",
              "  color: var(--sklearn-color-fitted-level-1);\n",
              "}\n",
              "\n",
              "/* On hover */\n",
              "div.sk-estimator:hover .sk-estimator-doc-link:hover,\n",
              ".sk-estimator-doc-link:hover,\n",
              "div.sk-label-container:hover .sk-estimator-doc-link:hover,\n",
              ".sk-estimator-doc-link:hover {\n",
              "  /* unfitted */\n",
              "  background-color: var(--sklearn-color-unfitted-level-3);\n",
              "  color: var(--sklearn-color-background);\n",
              "  text-decoration: none;\n",
              "}\n",
              "\n",
              "div.sk-estimator.fitted:hover .sk-estimator-doc-link.fitted:hover,\n",
              ".sk-estimator-doc-link.fitted:hover,\n",
              "div.sk-label-container:hover .sk-estimator-doc-link.fitted:hover,\n",
              ".sk-estimator-doc-link.fitted:hover {\n",
              "  /* fitted */\n",
              "  background-color: var(--sklearn-color-fitted-level-3);\n",
              "  color: var(--sklearn-color-background);\n",
              "  text-decoration: none;\n",
              "}\n",
              "\n",
              "/* Span, style for the box shown on hovering the info icon */\n",
              ".sk-estimator-doc-link span {\n",
              "  display: none;\n",
              "  z-index: 9999;\n",
              "  position: relative;\n",
              "  font-weight: normal;\n",
              "  right: .2ex;\n",
              "  padding: .5ex;\n",
              "  margin: .5ex;\n",
              "  width: min-content;\n",
              "  min-width: 20ex;\n",
              "  max-width: 50ex;\n",
              "  color: var(--sklearn-color-text);\n",
              "  box-shadow: 2pt 2pt 4pt #999;\n",
              "  /* unfitted */\n",
              "  background: var(--sklearn-color-unfitted-level-0);\n",
              "  border: .5pt solid var(--sklearn-color-unfitted-level-3);\n",
              "}\n",
              "\n",
              ".sk-estimator-doc-link.fitted span {\n",
              "  /* fitted */\n",
              "  background: var(--sklearn-color-fitted-level-0);\n",
              "  border: var(--sklearn-color-fitted-level-3);\n",
              "}\n",
              "\n",
              ".sk-estimator-doc-link:hover span {\n",
              "  display: block;\n",
              "}\n",
              "\n",
              "/* \"?\"-specific style due to the `<a>` HTML tag */\n",
              "\n",
              "#sk-container-id-2 a.estimator_doc_link {\n",
              "  float: right;\n",
              "  font-size: 1rem;\n",
              "  line-height: 1em;\n",
              "  font-family: monospace;\n",
              "  background-color: var(--sklearn-color-background);\n",
              "  border-radius: 1rem;\n",
              "  height: 1rem;\n",
              "  width: 1rem;\n",
              "  text-decoration: none;\n",
              "  /* unfitted */\n",
              "  color: var(--sklearn-color-unfitted-level-1);\n",
              "  border: var(--sklearn-color-unfitted-level-1) 1pt solid;\n",
              "}\n",
              "\n",
              "#sk-container-id-2 a.estimator_doc_link.fitted {\n",
              "  /* fitted */\n",
              "  border: var(--sklearn-color-fitted-level-1) 1pt solid;\n",
              "  color: var(--sklearn-color-fitted-level-1);\n",
              "}\n",
              "\n",
              "/* On hover */\n",
              "#sk-container-id-2 a.estimator_doc_link:hover {\n",
              "  /* unfitted */\n",
              "  background-color: var(--sklearn-color-unfitted-level-3);\n",
              "  color: var(--sklearn-color-background);\n",
              "  text-decoration: none;\n",
              "}\n",
              "\n",
              "#sk-container-id-2 a.estimator_doc_link.fitted:hover {\n",
              "  /* fitted */\n",
              "  background-color: var(--sklearn-color-fitted-level-3);\n",
              "}\n",
              "</style><div id=\"sk-container-id-2\" class=\"sk-top-container\"><div class=\"sk-text-repr-fallback\"><pre>LinearRegression()</pre><b>In a Jupyter environment, please rerun this cell to show the HTML representation or trust the notebook. <br />On GitHub, the HTML representation is unable to render, please try loading this page with nbviewer.org.</b></div><div class=\"sk-container\" hidden><div class=\"sk-item\"><div class=\"sk-estimator fitted sk-toggleable\"><input class=\"sk-toggleable__control sk-hidden--visually\" id=\"sk-estimator-id-2\" type=\"checkbox\" checked><label for=\"sk-estimator-id-2\" class=\"sk-toggleable__label fitted sk-toggleable__label-arrow\"><div><div>LinearRegression</div></div><div><a class=\"sk-estimator-doc-link fitted\" rel=\"noreferrer\" target=\"_blank\" href=\"https://scikit-learn.org/1.6/modules/generated/sklearn.linear_model.LinearRegression.html\">?<span>Documentation for LinearRegression</span></a><span class=\"sk-estimator-doc-link fitted\">i<span>Fitted</span></span></div></label><div class=\"sk-toggleable__content fitted\"><pre>LinearRegression()</pre></div> </div></div></div></div>"
            ],
            "text/plain": [
              "LinearRegression()"
            ]
          },
          "execution_count": 29,
          "metadata": {},
          "output_type": "execute_result"
        }
      ],
      "source": [
        "model = LinearRegression()\n",
        "model.fit(X_train, y_train)"
      ]
    },
    {
      "cell_type": "markdown",
      "id": "f7da1bd0",
      "metadata": {
        "id": "f7da1bd0"
      },
      "source": [
        "Task 4: Make Predictions\n",
        "\n",
        "Use the trained model to predict the prices of the test data."
      ]
    },
    {
      "cell_type": "code",
      "execution_count": 30,
      "id": "2c760fbd",
      "metadata": {
        "id": "2c760fbd"
      },
      "outputs": [],
      "source": [
        "y_pred = model.predict(X_test)"
      ]
    },
    {
      "cell_type": "markdown",
      "id": "C6zGjvodlFAc",
      "metadata": {
        "id": "C6zGjvodlFAc"
      },
      "source": [
        "Print the Intercept and coefficients\n"
      ]
    },
    {
      "cell_type": "code",
      "execution_count": 31,
      "id": "1AVedXCelCWG",
      "metadata": {
        "colab": {
          "base_uri": "https://localhost:8080/"
        },
        "id": "1AVedXCelCWG",
        "outputId": "c0ff7cfc-cdb5-4c97-e6f6-57d9918b5516"
      },
      "outputs": [
        {
          "name": "stdout",
          "output_type": "stream",
          "text": [
            "Intercept: 17.94164144427709\n",
            "Coefficients: [-0.10378849  0.03457988 -0.03375854  2.4688605   4.58465619 -0.02041385\n",
            " -1.20135165  0.2275268  -0.01233988 -0.71347374  0.01302048 -0.53551391]\n"
          ]
        }
      ],
      "source": [
        "print(\"Intercept:\", model.intercept_)\n",
        "print(\"Coefficients:\", model.coef_)"
      ]
    },
    {
      "cell_type": "markdown",
      "id": "a9c853c6",
      "metadata": {
        "id": "a9c853c6"
      },
      "source": [
        "Task 5: Evaluate the Model\n",
        "\n",
        "Evaluate the performance of the model using Mean Squared Error ,Root quared Error  and R² score."
      ]
    },
    {
      "cell_type": "code",
      "execution_count": 33,
      "id": "cf6bcc0d",
      "metadata": {
        "colab": {
          "base_uri": "https://localhost:8080/"
        },
        "id": "cf6bcc0d",
        "outputId": "d2d89d18-735f-4416-a9f1-59b831d5fece"
      },
      "outputs": [
        {
          "name": "stdout",
          "output_type": "stream",
          "text": [
            "Mean Squared Error: 25.348503470941406\n",
            "Root Mean Squared Error: 5.034729731667968\n",
            "R-squared: 0.6543407093082285\n"
          ]
        }
      ],
      "source": [
        "print(\"Mean Squared Error:\", mean_squared_error(y_test, y_pred))\n",
        "print(\"Root Mean Squared Error:\", np.sqrt(mean_squared_error(y_test, y_pred)))\n",
        "print(\"R-squared:\", r2_score(y_test, y_pred))"
      ]
    },
    {
      "cell_type": "markdown",
      "id": "3a4e6a3b",
      "metadata": {
        "id": "3a4e6a3b"
      },
      "source": [
        "Task 6: Visualize Results\n",
        "\n",
        "Create a scatter plot comparing actual vs. predicted house prices and add the best-fit line (regression line)."
      ]
    },
    {
      "cell_type": "code",
      "execution_count": 34,
      "id": "fc1c31ea",
      "metadata": {
        "colab": {
          "base_uri": "https://localhost:8080/",
          "height": 472
        },
        "id": "fc1c31ea",
        "outputId": "125cfa88-c01c-4899-e329-f6f516f8b4bc"
      },
      "outputs": [
        {
          "data": {
            "image/png": "[encoded data removed]",
            "text/plain": [
              "<Figure size 640x480 with 1 Axes>"
            ]
          },
          "metadata": {},
          "output_type": "display_data"
        }
      ],
      "source": [
        "plt.scatter(y_test, y_pred, color='blue', label='Actual vs Predicted')\n",
        "plt.xlabel('Actual Values')\n",
        "plt.ylabel('Predicted Values')\n",
        "plt.title('Actual vs Predicted Values')\n",
        "plt.plot([y.min(), y.max()], [y.min(), y.max()], 'r--', lw=2)\n",
        "plt.legend()\n",
        "plt.show()\n"
      ]
    },
    {
      "cell_type": "markdown",
      "id": "IhaRUWxzLOcm",
      "metadata": {
        "id": "IhaRUWxzLOcm"
      },
      "source": [
        "# <h1><font color='red'> Part3 : Report </font></h1>\n",
        "\n",
        "\n",
        "\n",
        "- Discuss the plot(relationship between the actual and predicted value).\n",
        "\n",
        "- Make a comparison between the intercept and coefficients for simple and multiple regression.\n",
        "\n",
        "\n"
      ]
    },
    {
      "cell_type": "markdown",
      "id": "0vErr-1cLteY",
      "metadata": {
        "id": "0vErr-1cLteY"
      },
      "source": []
    },
    {
      "cell_type": "markdown",
      "id": "NJgJHktTpJgk",
      "metadata": {
        "id": "NJgJHktTpJgk"
      },
      "source": []
    }
  ],
  "metadata": {
    "colab": {
      "provenance": []
    },
    "kernelspec": {
      "display_name": "Python 3",
      "name": "python3"
    },
    "language_info": {
      "codemirror_mode": {
        "name": "ipython",
        "version": 3
      },
      "file_extension": ".py",
      "mimetype": "text/x-python",
      "name": "python",
      "nbconvert_exporter": "python",
      "pygments_lexer": "ipython3",
      "version": "3.12.8"
    }
  },
  "nbformat": 4,
  "nbformat_minor": 5
}
